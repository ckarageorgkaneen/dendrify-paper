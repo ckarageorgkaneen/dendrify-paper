{
  "nbformat": 4,
  "nbformat_minor": 0,
  "metadata": {
    "colab": {
      "name": "Fig6-notebook.ipynb",
      "provenance": [],
      "collapsed_sections": [],
      "toc_visible": true,
      "authorship_tag": "ABX9TyPiexqkRJzYZQZiEeeULPMy",
      "include_colab_link": true
    },
    "kernelspec": {
      "name": "python3",
      "display_name": "Python 3"
    },
    "language_info": {
      "name": "python"
    }
  },
  "cells": [
    {
      "cell_type": "markdown",
      "metadata": {
        "id": "view-in-github",
        "colab_type": "text"
      },
      "source": [
        "<a href=\"https://colab.research.google.com/github/mpgl/dendrify-paper/blob/main/Fig6-notebook.ipynb\" target=\"_parent\"><img src=\"https://colab.research.google.com/assets/colab-badge.svg\" alt=\"Open In Colab\"/></a>"
      ]
    },
    {
      "cell_type": "markdown",
      "source": [
        "## Overview\n",
        "> *In this interactive Python notebook, we present and briefly discuss the code needed to replicate the model and the results shown in Figure 6 of the manuscript. In this example our goal is to illustrate that:*\n",
        ">\n",
        "> - *Reduced ccompartmental I&F models paired with phenomelogical, event-driven dendritic VGICs can reproduce a broad range of experimental data regarding a specific neuronal type.*\n",
        ">\n",
        "> - *Dendrify allows easy access to this category of models by radically simpliying their development in Brian 2.*\n",
        ">\n",
        "> **Important:** *here we focus primarily on the code and the results related to Figure 6. The validation protocol used to create the CA1 PC model is partly covered in the Methods section of the manuscript. However, an extensive practical guide will be also available soon on GitHub, as a stand-alone notebook.*\n",
        ">\n",
        "> <hr>\n",
        ">\n",
        "> *__Note__: In case you are unfamiliar with how Python notebooks work and you would like to run or rerun the entire code, simply select one of the options bellow:*\n",
        ">\n",
        "> - **Runtime ➝ Run all**\n",
        "> - **Runtime ➝ Restart and run all**\n",
        ">\n",
        "> *located on the top menu and wait a few seconds until all cells finish running.*\n",
        "> <hr>\n",
        ">\n",
        "> *All source code of the current Dendrify version is available on* [GitHub](https://github.com/mpgl/dendrify-paper)"
      ],
      "metadata": {
        "id": "TtFb9cgY1qiI"
      }
    },
    {
      "cell_type": "markdown",
      "source": [
        "## Setup"
      ],
      "metadata": {
        "id": "-g9AYMKzB7Pd"
      }
    },
    {
      "cell_type": "code",
      "execution_count": null,
      "metadata": {
        "cellView": "form",
        "id": "D_GUHEts1eAH"
      },
      "outputs": [],
      "source": [
        "#@title Install dependencies (might take a few seconds)\n",
        "import os\n",
        "if 'dendrify' in os.getcwd():\n",
        "    pass\n",
        "else:\n",
        "    !git clone https://github.com/mpgl/dendrify-paper.git --quiet\n",
        "    os.chdir('dendrify-paper')\n",
        "\n",
        "!pip install brian2 --quiet"
      ]
    },
    {
      "cell_type": "code",
      "source": [
        "#@title Imports and settings\n",
        "import brian2 as b\n",
        "from brian2.units import (ms, um, pA, nS, uS, ohm, cm, mV, uF, mvolt) # Generally a better practise than * imports\n",
        "from dendrify import Soma, Dendrite, NeuronModel\n",
        "\n",
        "b.prefs.codegen.target = 'numpy' # Improves performance significantly here\n",
        "b.start_scope()    # allows running separate simulations in the same notebook\n",
        "\n",
        "# @title Figure settings\n",
        "blue = '#005c94ff'\n",
        "green = '#338000ff'\n",
        "orange = '#ff6600ff'\n",
        "notred = '#aa0044ff'\n",
        "params = {\n",
        "          \"legend.fontsize\": 10,\n",
        "          \"legend.handlelength\": 1.5,\n",
        "          \"legend.edgecolor\": 'inherit',\n",
        "          \"legend.columnspacing\": 0.8,\n",
        "          \"legend.handletextpad\": 0.5,\n",
        "          \"axes.labelsize\": 10,\n",
        "          \"axes.titlesize\": 11, \n",
        "          \"axes.spines.right\": False,\n",
        "          \"axes.spines.top\": False,\n",
        "          \"xtick.labelsize\": 10,\n",
        "          \"ytick.labelsize\": 10,\n",
        "          'mathtext.default': 'regular',\n",
        "          'lines.markersize': 3,\n",
        "          'lines.linewidth': 1.25,\n",
        "          'grid.color': \"#d3d3d3\",\n",
        "          'text.antialiased': True,\n",
        "          'lines.antialiased': True,\n",
        "          'figure.dpi': 150,\n",
        "          'axes.prop_cycle': b.cycler(color=[blue, green, orange, notred])\n",
        "          }\n",
        "\n",
        "b.rcParams.update(params)"
      ],
      "metadata": {
        "cellView": "form",
        "id": "oewfbNN7B6sf"
      },
      "execution_count": null,
      "outputs": []
    },
    {
      "cell_type": "markdown",
      "source": [
        "## Build model\n",
        "\n",
        ">\n",
        "><p align=\"center\">\n",
        "    <img src=\"https://github.com/mpgl/dendrify-paper/blob/main/graphics/ca1_model.png?raw=true\" alt=\"model\" width=\"50%\">\n",
        "></p>\n",
        ">"
      ],
      "metadata": {
        "id": "wvh13ksTCRJP"
      }
    },
    {
      "cell_type": "code",
      "source": [
        ""
      ],
      "metadata": {
        "id": "sv1LVqneCT9e"
      },
      "execution_count": null,
      "outputs": []
    }
  ]
}