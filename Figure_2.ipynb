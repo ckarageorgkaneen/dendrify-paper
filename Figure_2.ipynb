{
  "nbformat": 4,
  "nbformat_minor": 0,
  "metadata": {
    "colab": {
      "name": "Figure_2.ipynb",
      "provenance": [],
      "collapsed_sections": [],
      "include_colab_link": true
    },
    "kernelspec": {
      "name": "python3",
      "display_name": "Python 3"
    },
    "language_info": {
      "name": "python"
    }
  },
  "cells": [
    {
      "cell_type": "markdown",
      "metadata": {
        "id": "view-in-github",
        "colab_type": "text"
      },
      "source": [
        "<a href=\"https://colab.research.google.com/github/mpgl/dendrify-paper/blob/main/Figure_2.ipynb\" target=\"_parent\"><img src=\"https://colab.research.google.com/assets/colab-badge.svg\" alt=\"Open In Colab\"/></a>"
      ]
    },
    {
      "cell_type": "code",
      "source": [
        "# @title Install Brian 2\n",
        "!pip install brian2 --quiet"
      ],
      "metadata": {
        "id": "a-8mfitqB4lu",
        "cellView": "form",
        "colab": {
          "base_uri": "https://localhost:8080/"
        },
        "outputId": "df703d6b-f77f-475c-86b6-f1847ea46c57"
      },
      "execution_count": null,
      "outputs": [
        {
          "output_type": "stream",
          "name": "stdout",
          "text": [
            "\u001b[?25l\r\u001b[K     |▎                               | 10 kB 20.7 MB/s eta 0:00:01\r\u001b[K     |▌                               | 20 kB 16.6 MB/s eta 0:00:01\r\u001b[K     |▊                               | 30 kB 11.4 MB/s eta 0:00:01\r\u001b[K     |█                               | 40 kB 4.8 MB/s eta 0:00:01\r\u001b[K     |█▏                              | 51 kB 4.7 MB/s eta 0:00:01\r\u001b[K     |█▍                              | 61 kB 5.5 MB/s eta 0:00:01\r\u001b[K     |█▋                              | 71 kB 6.1 MB/s eta 0:00:01\r\u001b[K     |█▉                              | 81 kB 5.7 MB/s eta 0:00:01\r\u001b[K     |██                              | 92 kB 6.4 MB/s eta 0:00:01\r\u001b[K     |██▎                             | 102 kB 5.5 MB/s eta 0:00:01\r\u001b[K     |██▌                             | 112 kB 5.5 MB/s eta 0:00:01\r\u001b[K     |██▊                             | 122 kB 5.5 MB/s eta 0:00:01\r\u001b[K     |███                             | 133 kB 5.5 MB/s eta 0:00:01\r\u001b[K     |███▏                            | 143 kB 5.5 MB/s eta 0:00:01\r\u001b[K     |███▍                            | 153 kB 5.5 MB/s eta 0:00:01\r\u001b[K     |███▋                            | 163 kB 5.5 MB/s eta 0:00:01\r\u001b[K     |███▉                            | 174 kB 5.5 MB/s eta 0:00:01\r\u001b[K     |████                            | 184 kB 5.5 MB/s eta 0:00:01\r\u001b[K     |████▎                           | 194 kB 5.5 MB/s eta 0:00:01\r\u001b[K     |████▌                           | 204 kB 5.5 MB/s eta 0:00:01\r\u001b[K     |████▊                           | 215 kB 5.5 MB/s eta 0:00:01\r\u001b[K     |█████                           | 225 kB 5.5 MB/s eta 0:00:01\r\u001b[K     |█████▏                          | 235 kB 5.5 MB/s eta 0:00:01\r\u001b[K     |█████▍                          | 245 kB 5.5 MB/s eta 0:00:01\r\u001b[K     |█████▋                          | 256 kB 5.5 MB/s eta 0:00:01\r\u001b[K     |█████▉                          | 266 kB 5.5 MB/s eta 0:00:01\r\u001b[K     |██████                          | 276 kB 5.5 MB/s eta 0:00:01\r\u001b[K     |██████▎                         | 286 kB 5.5 MB/s eta 0:00:01\r\u001b[K     |██████▌                         | 296 kB 5.5 MB/s eta 0:00:01\r\u001b[K     |██████▊                         | 307 kB 5.5 MB/s eta 0:00:01\r\u001b[K     |███████                         | 317 kB 5.5 MB/s eta 0:00:01\r\u001b[K     |███████▏                        | 327 kB 5.5 MB/s eta 0:00:01\r\u001b[K     |███████▍                        | 337 kB 5.5 MB/s eta 0:00:01\r\u001b[K     |███████▋                        | 348 kB 5.5 MB/s eta 0:00:01\r\u001b[K     |███████▉                        | 358 kB 5.5 MB/s eta 0:00:01\r\u001b[K     |████████                        | 368 kB 5.5 MB/s eta 0:00:01\r\u001b[K     |████████▎                       | 378 kB 5.5 MB/s eta 0:00:01\r\u001b[K     |████████▌                       | 389 kB 5.5 MB/s eta 0:00:01\r\u001b[K     |████████▊                       | 399 kB 5.5 MB/s eta 0:00:01\r\u001b[K     |█████████                       | 409 kB 5.5 MB/s eta 0:00:01\r\u001b[K     |█████████▏                      | 419 kB 5.5 MB/s eta 0:00:01\r\u001b[K     |█████████▍                      | 430 kB 5.5 MB/s eta 0:00:01\r\u001b[K     |█████████▋                      | 440 kB 5.5 MB/s eta 0:00:01\r\u001b[K     |█████████▉                      | 450 kB 5.5 MB/s eta 0:00:01\r\u001b[K     |██████████                      | 460 kB 5.5 MB/s eta 0:00:01\r\u001b[K     |██████████▎                     | 471 kB 5.5 MB/s eta 0:00:01\r\u001b[K     |██████████▌                     | 481 kB 5.5 MB/s eta 0:00:01\r\u001b[K     |██████████▊                     | 491 kB 5.5 MB/s eta 0:00:01\r\u001b[K     |███████████                     | 501 kB 5.5 MB/s eta 0:00:01\r\u001b[K     |███████████▏                    | 512 kB 5.5 MB/s eta 0:00:01\r\u001b[K     |███████████▍                    | 522 kB 5.5 MB/s eta 0:00:01\r\u001b[K     |███████████▋                    | 532 kB 5.5 MB/s eta 0:00:01\r\u001b[K     |███████████▉                    | 542 kB 5.5 MB/s eta 0:00:01\r\u001b[K     |████████████                    | 552 kB 5.5 MB/s eta 0:00:01\r\u001b[K     |████████████▎                   | 563 kB 5.5 MB/s eta 0:00:01\r\u001b[K     |████████████▌                   | 573 kB 5.5 MB/s eta 0:00:01\r\u001b[K     |████████████▊                   | 583 kB 5.5 MB/s eta 0:00:01\r\u001b[K     |█████████████                   | 593 kB 5.5 MB/s eta 0:00:01\r\u001b[K     |█████████████▏                  | 604 kB 5.5 MB/s eta 0:00:01\r\u001b[K     |█████████████▍                  | 614 kB 5.5 MB/s eta 0:00:01\r\u001b[K     |█████████████▋                  | 624 kB 5.5 MB/s eta 0:00:01\r\u001b[K     |█████████████▉                  | 634 kB 5.5 MB/s eta 0:00:01\r\u001b[K     |██████████████                  | 645 kB 5.5 MB/s eta 0:00:01\r\u001b[K     |██████████████▎                 | 655 kB 5.5 MB/s eta 0:00:01\r\u001b[K     |██████████████▌                 | 665 kB 5.5 MB/s eta 0:00:01\r\u001b[K     |██████████████▊                 | 675 kB 5.5 MB/s eta 0:00:01\r\u001b[K     |███████████████                 | 686 kB 5.5 MB/s eta 0:00:01\r\u001b[K     |███████████████▏                | 696 kB 5.5 MB/s eta 0:00:01\r\u001b[K     |███████████████▍                | 706 kB 5.5 MB/s eta 0:00:01\r\u001b[K     |███████████████▋                | 716 kB 5.5 MB/s eta 0:00:01\r\u001b[K     |███████████████▉                | 727 kB 5.5 MB/s eta 0:00:01\r\u001b[K     |████████████████                | 737 kB 5.5 MB/s eta 0:00:01\r\u001b[K     |████████████████▎               | 747 kB 5.5 MB/s eta 0:00:01\r\u001b[K     |████████████████▌               | 757 kB 5.5 MB/s eta 0:00:01\r\u001b[K     |████████████████▊               | 768 kB 5.5 MB/s eta 0:00:01\r\u001b[K     |█████████████████               | 778 kB 5.5 MB/s eta 0:00:01\r\u001b[K     |█████████████████▏              | 788 kB 5.5 MB/s eta 0:00:01\r\u001b[K     |█████████████████▍              | 798 kB 5.5 MB/s eta 0:00:01\r\u001b[K     |█████████████████▋              | 808 kB 5.5 MB/s eta 0:00:01\r\u001b[K     |█████████████████▉              | 819 kB 5.5 MB/s eta 0:00:01\r\u001b[K     |██████████████████              | 829 kB 5.5 MB/s eta 0:00:01\r\u001b[K     |██████████████████▎             | 839 kB 5.5 MB/s eta 0:00:01\r\u001b[K     |██████████████████▌             | 849 kB 5.5 MB/s eta 0:00:01\r\u001b[K     |██████████████████▊             | 860 kB 5.5 MB/s eta 0:00:01\r\u001b[K     |███████████████████             | 870 kB 5.5 MB/s eta 0:00:01\r\u001b[K     |███████████████████▏            | 880 kB 5.5 MB/s eta 0:00:01\r\u001b[K     |███████████████████▍            | 890 kB 5.5 MB/s eta 0:00:01\r\u001b[K     |███████████████████▋            | 901 kB 5.5 MB/s eta 0:00:01\r\u001b[K     |███████████████████▉            | 911 kB 5.5 MB/s eta 0:00:01\r\u001b[K     |████████████████████▏           | 921 kB 5.5 MB/s eta 0:00:01\r\u001b[K     |████████████████████▍           | 931 kB 5.5 MB/s eta 0:00:01\r\u001b[K     |████████████████████▋           | 942 kB 5.5 MB/s eta 0:00:01\r\u001b[K     |████████████████████▉           | 952 kB 5.5 MB/s eta 0:00:01\r\u001b[K     |█████████████████████           | 962 kB 5.5 MB/s eta 0:00:01\r\u001b[K     |█████████████████████▎          | 972 kB 5.5 MB/s eta 0:00:01\r\u001b[K     |█████████████████████▌          | 983 kB 5.5 MB/s eta 0:00:01\r\u001b[K     |█████████████████████▊          | 993 kB 5.5 MB/s eta 0:00:01\r\u001b[K     |██████████████████████          | 1.0 MB 5.5 MB/s eta 0:00:01\r\u001b[K     |██████████████████████▏         | 1.0 MB 5.5 MB/s eta 0:00:01\r\u001b[K     |██████████████████████▍         | 1.0 MB 5.5 MB/s eta 0:00:01\r\u001b[K     |██████████████████████▋         | 1.0 MB 5.5 MB/s eta 0:00:01\r\u001b[K     |██████████████████████▉         | 1.0 MB 5.5 MB/s eta 0:00:01\r\u001b[K     |███████████████████████         | 1.1 MB 5.5 MB/s eta 0:00:01\r\u001b[K     |███████████████████████▎        | 1.1 MB 5.5 MB/s eta 0:00:01\r\u001b[K     |███████████████████████▌        | 1.1 MB 5.5 MB/s eta 0:00:01\r\u001b[K     |███████████████████████▊        | 1.1 MB 5.5 MB/s eta 0:00:01\r\u001b[K     |████████████████████████        | 1.1 MB 5.5 MB/s eta 0:00:01\r\u001b[K     |████████████████████████▏       | 1.1 MB 5.5 MB/s eta 0:00:01\r\u001b[K     |████████████████████████▍       | 1.1 MB 5.5 MB/s eta 0:00:01\r\u001b[K     |████████████████████████▋       | 1.1 MB 5.5 MB/s eta 0:00:01\r\u001b[K     |████████████████████████▉       | 1.1 MB 5.5 MB/s eta 0:00:01\r\u001b[K     |█████████████████████████       | 1.1 MB 5.5 MB/s eta 0:00:01\r\u001b[K     |█████████████████████████▎      | 1.2 MB 5.5 MB/s eta 0:00:01\r\u001b[K     |█████████████████████████▌      | 1.2 MB 5.5 MB/s eta 0:00:01\r\u001b[K     |█████████████████████████▊      | 1.2 MB 5.5 MB/s eta 0:00:01\r\u001b[K     |██████████████████████████      | 1.2 MB 5.5 MB/s eta 0:00:01\r\u001b[K     |██████████████████████████▏     | 1.2 MB 5.5 MB/s eta 0:00:01\r\u001b[K     |██████████████████████████▍     | 1.2 MB 5.5 MB/s eta 0:00:01\r\u001b[K     |██████████████████████████▋     | 1.2 MB 5.5 MB/s eta 0:00:01\r\u001b[K     |██████████████████████████▉     | 1.2 MB 5.5 MB/s eta 0:00:01\r\u001b[K     |███████████████████████████     | 1.2 MB 5.5 MB/s eta 0:00:01\r\u001b[K     |███████████████████████████▎    | 1.2 MB 5.5 MB/s eta 0:00:01\r\u001b[K     |███████████████████████████▌    | 1.3 MB 5.5 MB/s eta 0:00:01\r\u001b[K     |███████████████████████████▊    | 1.3 MB 5.5 MB/s eta 0:00:01\r\u001b[K     |████████████████████████████    | 1.3 MB 5.5 MB/s eta 0:00:01\r\u001b[K     |████████████████████████████▏   | 1.3 MB 5.5 MB/s eta 0:00:01\r\u001b[K     |████████████████████████████▍   | 1.3 MB 5.5 MB/s eta 0:00:01\r\u001b[K     |████████████████████████████▋   | 1.3 MB 5.5 MB/s eta 0:00:01\r\u001b[K     |████████████████████████████▉   | 1.3 MB 5.5 MB/s eta 0:00:01\r\u001b[K     |█████████████████████████████   | 1.3 MB 5.5 MB/s eta 0:00:01\r\u001b[K     |█████████████████████████████▎  | 1.3 MB 5.5 MB/s eta 0:00:01\r\u001b[K     |█████████████████████████████▌  | 1.4 MB 5.5 MB/s eta 0:00:01\r\u001b[K     |█████████████████████████████▊  | 1.4 MB 5.5 MB/s eta 0:00:01\r\u001b[K     |██████████████████████████████  | 1.4 MB 5.5 MB/s eta 0:00:01\r\u001b[K     |██████████████████████████████▏ | 1.4 MB 5.5 MB/s eta 0:00:01\r\u001b[K     |██████████████████████████████▍ | 1.4 MB 5.5 MB/s eta 0:00:01\r\u001b[K     |██████████████████████████████▋ | 1.4 MB 5.5 MB/s eta 0:00:01\r\u001b[K     |██████████████████████████████▉ | 1.4 MB 5.5 MB/s eta 0:00:01\r\u001b[K     |███████████████████████████████ | 1.4 MB 5.5 MB/s eta 0:00:01\r\u001b[K     |███████████████████████████████▎| 1.4 MB 5.5 MB/s eta 0:00:01\r\u001b[K     |███████████████████████████████▌| 1.4 MB 5.5 MB/s eta 0:00:01\r\u001b[K     |███████████████████████████████▊| 1.5 MB 5.5 MB/s eta 0:00:01\r\u001b[K     |████████████████████████████████| 1.5 MB 5.5 MB/s eta 0:00:01\r\u001b[K     |████████████████████████████████| 1.5 MB 5.5 MB/s \n",
            "\u001b[?25h"
          ]
        }
      ]
    },
    {
      "cell_type": "code",
      "execution_count": null,
      "metadata": {
        "id": "_O3opU3oupgr",
        "cellView": "form",
        "colab": {
          "base_uri": "https://localhost:8080/",
          "height": 391
        },
        "outputId": "c698ecd4-b79d-46ce-891a-cd147306df4a"
      },
      "outputs": [
        {
          "output_type": "error",
          "ename": "ModuleNotFoundError",
          "evalue": "ignored",
          "traceback": [
            "\u001b[0;31m---------------------------------------------------------------------------\u001b[0m",
            "\u001b[0;31mModuleNotFoundError\u001b[0m                       Traceback (most recent call last)",
            "\u001b[0;32m<ipython-input-2-590b548778c1>\u001b[0m in \u001b[0;36m<module>\u001b[0;34m()\u001b[0m\n\u001b[1;32m      2\u001b[0m \u001b[0;32mimport\u001b[0m \u001b[0mbrian2\u001b[0m \u001b[0;32mas\u001b[0m \u001b[0mb\u001b[0m\u001b[0;34m\u001b[0m\u001b[0;34m\u001b[0m\u001b[0m\n\u001b[1;32m      3\u001b[0m \u001b[0;32mfrom\u001b[0m \u001b[0mbrian2\u001b[0m\u001b[0;34m.\u001b[0m\u001b[0munits\u001b[0m \u001b[0;32mimport\u001b[0m \u001b[0;34m(\u001b[0m\u001b[0mms\u001b[0m\u001b[0;34m,\u001b[0m \u001b[0mum\u001b[0m\u001b[0;34m,\u001b[0m \u001b[0mpA\u001b[0m\u001b[0;34m,\u001b[0m \u001b[0mnS\u001b[0m\u001b[0;34m,\u001b[0m \u001b[0muS\u001b[0m\u001b[0;34m,\u001b[0m \u001b[0mohm\u001b[0m\u001b[0;34m,\u001b[0m \u001b[0mcm\u001b[0m\u001b[0;34m,\u001b[0m \u001b[0mmV\u001b[0m\u001b[0;34m,\u001b[0m \u001b[0muF\u001b[0m\u001b[0;34m,\u001b[0m \u001b[0mmvolt\u001b[0m\u001b[0;34m)\u001b[0m \u001b[0;31m# Generally a better practise than * import\u001b[0m\u001b[0;34m\u001b[0m\u001b[0;34m\u001b[0m\u001b[0m\n\u001b[0;32m----> 4\u001b[0;31m \u001b[0;32mfrom\u001b[0m \u001b[0mdendrify\u001b[0m \u001b[0;32mimport\u001b[0m \u001b[0mSoma\u001b[0m\u001b[0;34m,\u001b[0m \u001b[0mDendrite\u001b[0m\u001b[0;34m,\u001b[0m \u001b[0mNeuronModel\u001b[0m\u001b[0;34m\u001b[0m\u001b[0;34m\u001b[0m\u001b[0m\n\u001b[0m\u001b[1;32m      5\u001b[0m \u001b[0;32mimport\u001b[0m \u001b[0mmatplotlib\u001b[0m\u001b[0;34m.\u001b[0m\u001b[0mpyplot\u001b[0m \u001b[0;32mas\u001b[0m \u001b[0mplt\u001b[0m\u001b[0;34m\u001b[0m\u001b[0;34m\u001b[0m\u001b[0m\n\u001b[1;32m      6\u001b[0m \u001b[0mb\u001b[0m\u001b[0;34m.\u001b[0m\u001b[0mprefs\u001b[0m\u001b[0;34m.\u001b[0m\u001b[0mcodegen\u001b[0m\u001b[0;34m.\u001b[0m\u001b[0mtarget\u001b[0m \u001b[0;34m=\u001b[0m \u001b[0;34m'numpy'\u001b[0m \u001b[0;31m# Improves performance significantly here\u001b[0m\u001b[0;34m\u001b[0m\u001b[0;34m\u001b[0m\u001b[0m\n",
            "\u001b[0;31mModuleNotFoundError\u001b[0m: No module named 'dendrify'",
            "",
            "\u001b[0;31m---------------------------------------------------------------------------\u001b[0;32m\nNOTE: If your import is failing due to a missing package, you can\nmanually install dependencies using either !pip or !apt.\n\nTo view examples of installing some common dependencies, click the\n\"Open Examples\" button below.\n\u001b[0;31m---------------------------------------------------------------------------\u001b[0m\n"
          ],
          "errorDetails": {
            "actions": [
              {
                "action": "open_url",
                "actionText": "Open Examples",
                "url": "/notebooks/snippets/importing_libraries.ipynb"
              }
            ]
          }
        }
      ],
      "source": [
        "# @title Imports and setup\n",
        "import brian2 as b\n",
        "from brian2.units import (ms, um, pA, nS, uS, ohm, cm, mV, uF, mvolt) # Generally a better practise than * import\n",
        "from dendrify import Soma, Dendrite, NeuronModel\n",
        "import matplotlib.pyplot as plt\n",
        "b.prefs.codegen.target = 'numpy' # Improves performance significantly here"
      ]
    },
    {
      "cell_type": "code",
      "source": [
        "# @title Figure settings\n",
        "params = {\"font.family\": \"Arial\",\n",
        "          \"legend.fontsize\": 10,\n",
        "          \"legend.handlelength\": 1.5,\n",
        "          \"legend.edgecolor\": 'inherit',\n",
        "          \"legend.columnspacing\": 0.8,\n",
        "          \"legend.handletextpad\": 0.5,\n",
        "          \"axes.labelsize\": 10,\n",
        "          \"axes.titlesize\": 11, \n",
        "          \"axes.spines.right\": False,\n",
        "          \"axes.spines.top\": False,\n",
        "          \"axes.edgecolor\": \"#d3d3d3\",\n",
        "          \"xtick.color\": '#d3d3d3',\n",
        "          \"xtick.labelcolor\": 'black',\n",
        "          \"xtick.labelsize\": 10,\n",
        "          \"ytick.color\": '#d3d3d3',\n",
        "          \"ytick.labelcolor\": 'black',\n",
        "          \"ytick.labelsize\": 10,\n",
        "          'mathtext.default': 'regular',\n",
        "          'lines.markersize': 3,\n",
        "          'lines.linewidth': 1.25,\n",
        "          'grid.linestyle': \":\",\n",
        "          'grid.color': \"#d3d3d3\",\n",
        "          'text.antialiased': True,\n",
        "          'lines.antialiased': True,\n",
        "          'figure.dpi': 400\n",
        "          }\n",
        "          \n",
        "graphite = \"#4B4E53\"\n",
        "blue = '#005c94ff'\n",
        "green = '#338000ff'\n",
        "orange = '#ff6600ff'\n",
        "notred = '#aa0044ff'\n",
        "dsblue = '#0BA8E6'\n",
        "light_gray = \"#b5b5b5\"\n",
        "\n",
        "b.rcParams.update(params)\n",
        "%matplotlib inline"
      ],
      "metadata": {
        "cellView": "form",
        "id": "AlzdA7-8O13p"
      },
      "execution_count": null,
      "outputs": []
    },
    {
      "cell_type": "markdown",
      "source": [
        "***Let's first build a basic 3-compartment model with passive dendrites:***"
      ],
      "metadata": {
        "id": "rWN6rcL_DpMk"
      }
    },
    {
      "cell_type": "code",
      "source": [
        "# create soma\n",
        "soma = Soma('soma', model='leakyIF', length=25*um, diameter=25*um)\n",
        "\n",
        "# create apical dendrite\n",
        "apical = Dendrite('apical', length=250*um, diameter=2*um)\n",
        "\n",
        "# create basal dendrite\n",
        "basal = Dendrite('basal', length=150*um, diameter=2*um)\n",
        "\n",
        "# add noise\n",
        "apical.noise(tau=20*ms, sigma=3*pA, mean=0*pA)\n",
        "basal.noise(tau=20*ms, sigma=3*pA, mean=0*pA)\n",
        "\n",
        "# add synapses\n",
        "apical.synapse('AMPA', pre='cortex', g=1*nS, t_decay=2*ms)\n",
        "apical.synapse('NMDA', pre='cortex', g=1*nS, t_decay=60*ms)\n",
        "\n",
        "# merge compartments into a  neuron model and set its properties\n",
        "edges = [(soma, apical, 10*nS), (soma, basal, 10*nS)]\n",
        "pyr_model = NeuronModel(edges, cm=1*uF/(cm**2), gl=50*uS/(cm**2),\n",
        "                          v_rest=-70*mV, r_axial=150*ohm*cm,\n",
        "                          scale_factor=3, spine_factor=1.5)\n",
        "\n",
        "# create a Brian NeuronGroup and link it to the neuron model\n",
        "pyr_group = b.NeuronGroup(3, model=pyr_model.equations, method='euler',\n",
        "                          threshold='V_soma > -40*mV', reset='V_soma = -50*mV',\n",
        "                          refractory=3*ms, namespace=pyr_model.parameters)\n",
        "pyr_model.link(pyr_group)"
      ],
      "metadata": {
        "id": "dLHYPvnQ0TbF"
      },
      "execution_count": null,
      "outputs": []
    },
    {
      "cell_type": "markdown",
      "source": [
        "***We can inspect what Dendrify created for us simply by printing a NeuronModel object:***"
      ],
      "metadata": {
        "id": "2iRzlNceD8wP"
      }
    },
    {
      "cell_type": "code",
      "source": [
        "print(pyr_model)"
      ],
      "metadata": {
        "id": "2E7a7aYI5gRu"
      },
      "execution_count": null,
      "outputs": []
    },
    {
      "cell_type": "markdown",
      "source": [
        "***Also we can access any of its properties using the dot notation (example:):***\n"
      ],
      "metadata": {
        "id": "hVFOIT0SRMya"
      }
    },
    {
      "cell_type": "code",
      "source": [
        "pyr_model.parameters"
      ],
      "metadata": {
        "id": "FAR97h1MQgEX"
      },
      "execution_count": null,
      "outputs": []
    },
    {
      "cell_type": "markdown",
      "source": [
        "***Let's replicate now the experiments of Figure 2:***"
      ],
      "metadata": {
        "id": "tqxt3A2leAq9"
      }
    },
    {
      "cell_type": "code",
      "source": [
        "# Set monitors for variables of interest\n",
        "M = b.StateMonitor(pyr_group, [\"V_soma\", \"V_apical\", \"V_basal\"], record=True)\n",
        "\n",
        "# Run simulation\n",
        "I = 100 * pA\n",
        "b.run(100*ms)\n",
        "pyr_group.I_ext_soma[0] = I\n",
        "pyr_group.I_ext_apical[1] = I\n",
        "pyr_group.I_ext_basal[2] = I\n",
        "b.run(400*ms)\n",
        "pyr_group.I_ext_soma[0] = 0 * pA\n",
        "pyr_group.I_ext_apical[1] = 0 * pA\n",
        "pyr_group.I_ext_basal[2] = 0 * pA\n",
        "b.run(550*ms)"
      ],
      "metadata": {
        "id": "wKkDO_7Kdn_c"
      },
      "execution_count": null,
      "outputs": []
    },
    {
      "cell_type": "code",
      "source": [
        "time = M.t/ms\n",
        "vs = M.V_soma/mV\n",
        "va = M.V_apical/mV\n",
        "vb = M.V_basal/mV\n",
        "\n",
        "fig, axes = plt.subplots(1, 3, figsize=[10, 3], sharex=True, sharey=True)\n",
        "ax0, ax1, ax2 = axes\n",
        "\n",
        "for i in range(3):\n",
        "  ax0.plot(time, vs[i])\n",
        "  ax1.plot(time, vs[i])\n",
        "  ax2.plot(time, vs[i])\n",
        "\n",
        "\n",
        "plt.show()"
      ],
      "metadata": {
        "id": "8B94Cc4MgsGG"
      },
      "execution_count": null,
      "outputs": []
    },
    {
      "cell_type": "code",
      "source": [
        "vs = M.V_soma/mV"
      ],
      "metadata": {
        "id": "DjHr38kuhWTp"
      },
      "execution_count": null,
      "outputs": []
    },
    {
      "cell_type": "code",
      "source": [
        "vs"
      ],
      "metadata": {
        "id": "jtThs-UYjZe8"
      },
      "execution_count": null,
      "outputs": []
    },
    {
      "cell_type": "code",
      "source": [
        ""
      ],
      "metadata": {
        "id": "avzXWBtFjare"
      },
      "execution_count": null,
      "outputs": []
    }
  ]
}