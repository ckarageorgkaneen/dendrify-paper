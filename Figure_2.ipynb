{
  "nbformat": 4,
  "nbformat_minor": 0,
  "metadata": {
    "colab": {
      "name": "Figure_2.ipynb",
      "provenance": [],
      "collapsed_sections": [],
      "include_colab_link": true
    },
    "kernelspec": {
      "name": "python3",
      "display_name": "Python 3"
    },
    "language_info": {
      "name": "python"
    }
  },
  "cells": [
    {
      "cell_type": "markdown",
      "metadata": {
        "id": "view-in-github",
        "colab_type": "text"
      },
      "source": [
        "<a href=\"https://colab.research.google.com/github/mpgl/dendrify-paper/blob/main/Figure_2.ipynb\" target=\"_parent\"><img src=\"https://colab.research.google.com/assets/colab-badge.svg\" alt=\"Open In Colab\"/></a>"
      ]
    },
    {
      "cell_type": "code",
      "source": [
        "# @title Install dependencies\n",
        "!pip install brian2 --quiet\n",
        "\n",
        "!git clone https://github.com/mpgl/dendrify-paper.git\n",
        "\n",
        "import os\n",
        "os.chdir('dendrify-paper')"
      ],
      "metadata": {
        "id": "a-8mfitqB4lu",
        "cellView": "form",
        "colab": {
          "base_uri": "https://localhost:8080/"
        },
        "outputId": "b7e6ee66-31bf-4dd9-97cc-322262e35ab9"
      },
      "execution_count": 1,
      "outputs": [
        {
          "output_type": "stream",
          "name": "stdout",
          "text": [
            "fatal: destination path 'dendrify-paper' already exists and is not an empty directory.\n"
          ]
        }
      ]
    },
    {
      "cell_type": "code",
      "execution_count": 2,
      "metadata": {
        "id": "_O3opU3oupgr"
      },
      "outputs": [],
      "source": [
        "# Imports and setup\n",
        "import brian2 as b\n",
        "from brian2.units import (ms, um, pA, nS, uS, ohm, cm, mV, uF, mvolt) # Generally a better practise than * import\n",
        "from dendrify import Soma, Dendrite, NeuronModel\n",
        "import matplotlib.pyplot as plt\n",
        "b.prefs.codegen.target = 'numpy' # Improves performance significantly here"
      ]
    },
    {
      "cell_type": "code",
      "source": [
        "# @title Figure settings\n",
        "params = {\"font.family\": \"Arial\",\n",
        "          \"legend.fontsize\": 10,\n",
        "          \"legend.handlelength\": 1.5,\n",
        "          \"legend.edgecolor\": 'inherit',\n",
        "          \"legend.columnspacing\": 0.8,\n",
        "          \"legend.handletextpad\": 0.5,\n",
        "          \"axes.labelsize\": 10,\n",
        "          \"axes.titlesize\": 11, \n",
        "          \"axes.spines.right\": False,\n",
        "          \"axes.spines.top\": False,\n",
        "          \"axes.edgecolor\": \"#d3d3d3\",\n",
        "          \"xtick.color\": '#d3d3d3',\n",
        "          \"xtick.labelsize\": 10,\n",
        "          \"ytick.color\": '#d3d3d3',\n",
        "          \"ytick.labelsize\": 10,\n",
        "          'mathtext.default': 'regular',\n",
        "          'lines.markersize': 3,\n",
        "          'lines.linewidth': 1.25,\n",
        "          'grid.linestyle': \":\",\n",
        "          'grid.color': \"#d3d3d3\",\n",
        "          'text.antialiased': True,\n",
        "          'lines.antialiased': True,\n",
        "          'figure.dpi': 400\n",
        "          }\n",
        "          \n",
        "graphite = \"#4B4E53\"\n",
        "blue = '#005c94ff'\n",
        "green = '#338000ff'\n",
        "orange = '#ff6600ff'\n",
        "notred = '#aa0044ff'\n",
        "dsblue = '#0BA8E6'\n",
        "light_gray = \"#b5b5b5\"\n",
        "\n",
        "plt.rcParams.update(params)\n",
        "%matplotlib inline"
      ],
      "metadata": {
        "cellView": "form",
        "id": "AlzdA7-8O13p"
      },
      "execution_count": 3,
      "outputs": []
    },
    {
      "cell_type": "markdown",
      "source": [
        "***Let's first build a basic 3-compartment model with passive dendrites:***"
      ],
      "metadata": {
        "id": "rWN6rcL_DpMk"
      }
    },
    {
      "cell_type": "code",
      "source": [
        "# create soma\n",
        "soma = Soma('soma', model='leakyIF', length=25*um, diameter=25*um)\n",
        "\n",
        "# create apical dendrite\n",
        "apical = Dendrite('apical', length=250*um, diameter=2*um)\n",
        "\n",
        "# create basal dendrite\n",
        "basal = Dendrite('basal', length=150*um, diameter=2*um)\n",
        "\n",
        "# add noise\n",
        "apical.noise(tau=20*ms, sigma=3*pA, mean=0*pA)\n",
        "basal.noise(tau=20*ms, sigma=3*pA, mean=0*pA)\n",
        "\n",
        "# add synapses\n",
        "apical.synapse('AMPA', pre='cortex', g=1*nS, t_decay=2*ms)\n",
        "apical.synapse('NMDA', pre='cortex', g=1*nS, t_decay=60*ms)\n",
        "\n",
        "# merge compartments into a  neuron model and set its properties\n",
        "edges = [(soma, apical, 10*nS), (soma, basal, 10*nS)]\n",
        "pyr_model = NeuronModel(edges, cm=1*uF/(cm**2), gl=50*uS/(cm**2),\n",
        "                          v_rest=-70*mV, r_axial=150*ohm*cm,\n",
        "                          scale_factor=3, spine_factor=1.5)\n",
        "\n",
        "# create a Brian NeuronGroup and link it to the neuron model\n",
        "pyr_group = b.NeuronGroup(3, model=pyr_model.equations, method='euler',\n",
        "                          threshold='V_soma > -40*mV', reset='V_soma = -50*mV',\n",
        "                          refractory=3*ms, namespace=pyr_model.parameters)\n",
        "pyr_model.link(pyr_group)"
      ],
      "metadata": {
        "id": "dLHYPvnQ0TbF"
      },
      "execution_count": 4,
      "outputs": []
    },
    {
      "cell_type": "markdown",
      "source": [
        "***We can inspect what Dendrify created for us simply by printing a NeuronModel object:***"
      ],
      "metadata": {
        "id": "2iRzlNceD8wP"
      }
    },
    {
      "cell_type": "code",
      "source": [
        "print(pyr_model)"
      ],
      "metadata": {
        "id": "2E7a7aYI5gRu",
        "outputId": "ad367666-e87e-4848-df60-756066e40703",
        "colab": {
          "base_uri": "https://localhost:8080/"
        }
      },
      "execution_count": 5,
      "outputs": [
        {
          "output_type": "stream",
          "name": "stdout",
          "text": [
            "OBJECT TYPE:\n",
            "\n",
            "  <class 'dendrify.neuronmodel.NeuronModel'>\n",
            "\n",
            "---------------------------------------------\n",
            "\n",
            "PROPERTIES (type): \n",
            "\n",
            "→ equations (str):\n",
            "    dV_soma/dt = (gL_soma * (EL_soma-V_soma) + I_soma) / C_soma  :volt\n",
            "    I_soma = I_ext_soma + I_basal_soma  + I_apical_soma   :amp\n",
            "    I_ext_soma  :amp\n",
            "    I_apical_soma = (V_apical-V_soma) * g_apical_soma  :amp\n",
            "    I_basal_soma = (V_basal-V_soma) * g_basal_soma  :amp\n",
            "    \n",
            "    dV_apical/dt = (gL_apical * (EL_apical-V_apical) + I_apical) / C_apical  :volt\n",
            "    I_apical = I_ext_apical + I_soma_apical  + I_NMDA_cortex_apical + I_AMPA_cortex_apical + I_noise_apical  :amp\n",
            "    I_ext_apical  :amp\n",
            "    dI_noise_apical/dt = (mean_noise_apical-I_noise_apical) / tau_noise_apical + sigma_noise_apical * (sqrt(2/tau_noise_apical) * xi_apical) :amp\n",
            "    I_AMPA_cortex_apical = g_AMPA_cortex_apical * (E_AMPA-V_apical) * s_AMPA_cortex_apical * w_AMPA_cortex_apical  :amp\n",
            "    ds_AMPA_cortex_apical/dt = -s_AMPA_cortex_apical / t_AMPA_decay_cortex_apical  :1\n",
            "    I_NMDA_cortex_apical = g_NMDA_cortex_apical * (E_NMDA-V_apical) * s_NMDA_cortex_apical / (1 + Mg * exp(-alpha*(V_apical/mV+gamma)) / beta) * w_NMDA_cortex_apical  :amp\n",
            "    ds_NMDA_cortex_apical/dt = -s_NMDA_cortex_apical/t_NMDA_decay_cortex_apical  :1\n",
            "    I_soma_apical = (V_soma-V_apical) * g_soma_apical  :amp\n",
            "    \n",
            "    dV_basal/dt = (gL_basal * (EL_basal-V_basal) + I_basal) / C_basal  :volt\n",
            "    I_basal = I_ext_basal + I_soma_basal  + I_noise_basal  :amp\n",
            "    I_ext_basal  :amp\n",
            "    dI_noise_basal/dt = (mean_noise_basal-I_noise_basal) / tau_noise_basal + sigma_noise_basal * (sqrt(2/tau_noise_basal) * xi_basal) :amp\n",
            "    I_soma_basal = (V_soma-V_basal) * g_soma_basal  :amp\n",
            "\n",
            "→ parameters (dict):\n",
            "    'C_apical': 70.68583471 pF\n",
            "    'C_basal': 42.41150082 pF\n",
            "    'C_soma': 58.90486225 pF\n",
            "    'EL_apical': -70. mV\n",
            "    'EL_basal': -70. mV\n",
            "    'EL_soma': -70. mV\n",
            "    'E_AMPA': 0. V\n",
            "    'E_Ca': 136. mV\n",
            "    'E_GABA': -80. mV\n",
            "    'E_K': -90. mV\n",
            "    'E_NMDA': 0. V\n",
            "    'E_Na': 50. mV\n",
            "    'Mg': 1.0\n",
            "    'alpha': 0.062\n",
            "    'beta': 3.57\n",
            "    'gL_apical': 3.53429174 nS\n",
            "    'gL_basal': 2.12057504 nS\n",
            "    'gL_soma': 2.94524311 nS\n",
            "    'g_AMPA_cortex_apical': 1. nS\n",
            "    'g_NMDA_cortex_apical': 1. nS\n",
            "    'g_apical_soma': 10. nS\n",
            "    'g_basal_soma': 10. nS\n",
            "    'g_soma_apical': 10. nS\n",
            "    'g_soma_basal': 10. nS\n",
            "    'gamma': 0\n",
            "    'mean_noise_apical': 0. A\n",
            "    'mean_noise_basal': 0. A\n",
            "    'sigma_noise_apical': 3. pA\n",
            "    'sigma_noise_basal': 3. pA\n",
            "    't_AMPA_decay_cortex_apical': 2. ms\n",
            "    't_NMDA_decay_cortex_apical': 60. ms\n",
            "    'tau_noise_apical': 20. ms\n",
            "    'tau_noise_basal': 20. ms\n",
            "    'w_AMPA_cortex_apical': 1\n",
            "    'w_NMDA_cortex_apical': 1\n",
            "\n",
            "→ events (dict):\n",
            "    None\n",
            "\n",
            "---------------------------------------------\n",
            "\n",
            "USEFUL ATTRIBUTES:\n",
            "\n",
            "→ _linked_neurongroup:\n",
            "    ('pyr_group', NeuronGroup(clock=Clock(dt=100. * usecond, name='defaultclock'), when=start, order=0, name='neurongroup'))\n",
            "\n",
            "→ _extra_equations:\n",
            "    None\n",
            "\n",
            "→ _extra_params:\n",
            "   None\n",
            "\n"
          ]
        }
      ]
    },
    {
      "cell_type": "markdown",
      "source": [
        "***Also we can access any of its properties using the dot notation (example:):***\n"
      ],
      "metadata": {
        "id": "hVFOIT0SRMya"
      }
    },
    {
      "cell_type": "code",
      "source": [
        "pyr_model.parameters"
      ],
      "metadata": {
        "id": "FAR97h1MQgEX",
        "outputId": "3a37f701-7963-49ad-a769-956d34fb5ba3",
        "colab": {
          "base_uri": "https://localhost:8080/"
        }
      },
      "execution_count": 6,
      "outputs": [
        {
          "output_type": "execute_result",
          "data": {
            "text/plain": [
              "{'C_apical': 70.68583471 * pfarad,\n",
              " 'C_basal': 42.41150082 * pfarad,\n",
              " 'C_soma': 58.90486225 * pfarad,\n",
              " 'EL_apical': -70. * mvolt,\n",
              " 'EL_basal': -70. * mvolt,\n",
              " 'EL_soma': -70. * mvolt,\n",
              " 'E_AMPA': 0. * volt,\n",
              " 'E_Ca': 136. * mvolt,\n",
              " 'E_GABA': -80. * mvolt,\n",
              " 'E_K': -90. * mvolt,\n",
              " 'E_NMDA': 0. * volt,\n",
              " 'E_Na': 50. * mvolt,\n",
              " 'Mg': 1.0,\n",
              " 'alpha': 0.062,\n",
              " 'beta': 3.57,\n",
              " 'gL_apical': 3.53429174 * nsiemens,\n",
              " 'gL_basal': 2.12057504 * nsiemens,\n",
              " 'gL_soma': 2.94524311 * nsiemens,\n",
              " 'g_AMPA_cortex_apical': 1. * nsiemens,\n",
              " 'g_NMDA_cortex_apical': 1. * nsiemens,\n",
              " 'g_apical_soma': 10. * nsiemens,\n",
              " 'g_basal_soma': 10. * nsiemens,\n",
              " 'g_soma_apical': 10. * nsiemens,\n",
              " 'g_soma_basal': 10. * nsiemens,\n",
              " 'gamma': 0,\n",
              " 'mean_noise_apical': 0. * amp,\n",
              " 'mean_noise_basal': 0. * amp,\n",
              " 'sigma_noise_apical': 3. * pamp,\n",
              " 'sigma_noise_basal': 3. * pamp,\n",
              " 't_AMPA_decay_cortex_apical': 2. * msecond,\n",
              " 't_NMDA_decay_cortex_apical': 60. * msecond,\n",
              " 'tau_noise_apical': 20. * msecond,\n",
              " 'tau_noise_basal': 20. * msecond,\n",
              " 'w_AMPA_cortex_apical': 1,\n",
              " 'w_NMDA_cortex_apical': 1}"
            ]
          },
          "metadata": {},
          "execution_count": 6
        }
      ]
    },
    {
      "cell_type": "markdown",
      "source": [
        "***Let's replicate now the experiments of Figure 2:***"
      ],
      "metadata": {
        "id": "tqxt3A2leAq9"
      }
    },
    {
      "cell_type": "code",
      "source": [
        "# Set monitors for variables of interest\n",
        "M = b.StateMonitor(pyr_group, [\"V_soma\", \"V_apical\", \"V_basal\"], record=True)\n",
        "\n",
        "# Run simulation\n",
        "I = 100 * pA\n",
        "b.run(100*ms)\n",
        "pyr_group.I_ext_soma[0] = I\n",
        "pyr_group.I_ext_apical[1] = I\n",
        "pyr_group.I_ext_basal[2] = I\n",
        "b.run(400*ms)\n",
        "pyr_group.I_ext_soma[0] = 0 * pA\n",
        "pyr_group.I_ext_apical[1] = 0 * pA\n",
        "pyr_group.I_ext_basal[2] = 0 * pA\n",
        "b.run(550*ms)"
      ],
      "metadata": {
        "id": "wKkDO_7Kdn_c"
      },
      "execution_count": 7,
      "outputs": []
    },
    {
      "cell_type": "code",
      "source": [
        "time = M.t/ms\n",
        "vs = M.V_soma/mV\n",
        "va = M.V_apical/mV\n",
        "vb = M.V_basal/mV\n",
        "\n",
        "fig, axes = plt.subplots(1, 3, figsize=[10, 3], sharex=True, sharey=True)\n",
        "ax0, ax1, ax2 = axes\n",
        "\n",
        "for i in range(3):\n",
        "  ax0.plot(time, vs[i])\n",
        "  ax1.plot(time, vs[i])\n",
        "  ax2.plot(time, vs[i])\n",
        "\n",
        "\n",
        "plt.show()"
      ],
      "metadata": {
        "id": "8B94Cc4MgsGG",
        "outputId": "6eea2342-dfc8-4881-e59e-be5fa1764321",
        "colab": {
          "base_uri": "https://localhost:8080/",
          "height": 230
        }
      },
      "execution_count": 8,
      "outputs": [
        {
          "output_type": "stream",
          "name": "stderr",
          "text": [
            "findfont: Font family ['Arial'] not found. Falling back to DejaVu Sans.\n"
          ]
        },
        {
          "output_type": "display_data",
          "data": {
            "text/plain": [
              "<Figure size 720x216 with 3 Axes>"
            ],
            "image/png": "[encoded data removed]"
          },
          "metadata": {
            "needs_background": "dark"
          }
        }
      ]
    },
    {
      "cell_type": "code",
      "source": [
        "vs = M.V_soma/mV"
      ],
      "metadata": {
        "id": "DjHr38kuhWTp"
      },
      "execution_count": 9,
      "outputs": []
    },
    {
      "cell_type": "code",
      "source": [
        "vs"
      ],
      "metadata": {
        "id": "jtThs-UYjZe8",
        "outputId": "25be3592-2797-4550-cac5-adaf488d13f6",
        "colab": {
          "base_uri": "https://localhost:8080/"
        }
      },
      "execution_count": 10,
      "outputs": [
        {
          "output_type": "execute_result",
          "data": {
            "text/plain": [
              "array([[-70.        , -70.        , -70.        , ..., -69.64941121,\n",
              "        -69.64830885, -69.64722308],\n",
              "       [-70.        , -70.        , -70.        , ..., -70.14166069,\n",
              "        -70.14195026, -70.14224296],\n",
              "       [-70.        , -70.        , -70.        , ..., -69.35360782,\n",
              "        -69.35320948, -69.35286887]])"
            ]
          },
          "metadata": {},
          "execution_count": 10
        }
      ]
    },
    {
      "cell_type": "code",
      "source": [
        ""
      ],
      "metadata": {
        "id": "avzXWBtFjare"
      },
      "execution_count": 10,
      "outputs": []
    }
  ]
}