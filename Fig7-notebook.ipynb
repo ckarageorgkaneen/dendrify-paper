{
  "nbformat": 4,
  "nbformat_minor": 0,
  "metadata": {
    "colab": {
      "name": "Fig7-notebook.ipynb",
      "provenance": [],
      "collapsed_sections": [
        "H0LtGIRA1PDV"
      ],
      "toc_visible": true,
      "authorship_tag": "ABX9TyOu9tgCwrPMYtyChjhKFIqX",
      "include_colab_link": true
    },
    "kernelspec": {
      "name": "python3",
      "display_name": "Python 3"
    },
    "language_info": {
      "name": "python"
    }
  },
  "cells": [
    {
      "cell_type": "markdown",
      "metadata": {
        "id": "view-in-github",
        "colab_type": "text"
      },
      "source": [
        "<a href=\"https://colab.research.google.com/github/mpgl/dendrify-paper/blob/main/Fig7-notebook.ipynb\" target=\"_parent\"><img src=\"https://colab.research.google.com/assets/colab-badge.svg\" alt=\"Open In Colab\"/></a>"
      ]
    },
    {
      "cell_type": "markdown",
      "source": [
        "## Overview\n",
        "> *In this interactive Python notebook, we present and briefly discuss the code needed to replicate the model and the results shown in Figure 7 of the manuscript. In this example our main goal is to illustrate that:*\n",
        ">\n",
        "> - *The simplified CA1 model we presented, can reproduce complex pathway interaction rules that rely on dendritic VGICs, in addition to essential electrophysiological properties of real neurons (Fig. 6).*\n",
        ">\n",
        ">\n",
        "> **Important:** *since Figure 7 requires in total 242 different simulations, it is impractical and time-concuming to perform all of them in the current notebook. Therefore, to recreate panels d-f we will utilise existing data that will be downloaded from an online repository.*\n",
        ">\n",
        "> <hr>\n",
        ">\n",
        "> *__Note__: In case you are unfamiliar with how Python notebooks work and you would like to run or rerun the entire code, simply select one of the options bellow:*\n",
        ">\n",
        "> - **Runtime ➝ Run all**\n",
        "> - **Runtime ➝ Restart and run all**\n",
        ">\n",
        "> *located on the top menu and wait a few seconds until all cells finish running.*\n",
        "> <hr>\n",
        ">\n",
        "> *All source code of the current Dendrify version is available on* [GitHub](https://github.com/mpgl/dendrify-paper)"
      ],
      "metadata": {
        "id": "H0LtGIRA1PDV"
      }
    },
    {
      "cell_type": "markdown",
      "source": [
        "## Setup"
      ],
      "metadata": {
        "id": "-g9AYMKzB7Pd"
      }
    },
    {
      "cell_type": "code",
      "execution_count": 1,
      "metadata": {
        "colab": {
          "base_uri": "https://localhost:8080/"
        },
        "cellView": "form",
        "id": "HlN1GN3h1LS_",
        "outputId": "b50501b8-2059-4017-e7b7-706f8bf83fdc"
      },
      "outputs": [
        {
          "output_type": "stream",
          "name": "stdout",
          "text": [
            "\u001b[K     |████████████████████████████████| 1.5 MB 4.4 MB/s \n",
            "Git LFS: (1 of 1 files) 60.96 MB / 60.96 MB\n"
          ]
        }
      ],
      "source": [
        "#@title Install dependencies and download data (might take a few seconds)\n",
        "import os\n",
        "if 'dendrify' in os.getcwd():\n",
        "    pass\n",
        "else:\n",
        "    !git clone https://github.com/mpgl/dendrify-paper.git --quiet\n",
        "    os.chdir('dendrify-paper')\n",
        "\n",
        "!pip install brian2 --quiet\n",
        "!git lfs pull --include=other/fig7-data.zip"
      ]
    },
    {
      "cell_type": "code",
      "source": [
        "#@title Imports and settings\n",
        "import brian2 as b\n",
        "from brian2.units import (ms, um, pA, nS, uS, ohm, cm, mV, uF, mvolt, msiemens) # Generally a better practise than * imports\n",
        "from dendrify import Soma, Dendrite, NeuronModel\n",
        "from zipfile import ZipFile\n",
        "import pickle as p\n",
        "import seaborn as sns\n",
        "\n",
        "b.prefs.codegen.target = 'numpy' # Improves performance significantly here\n",
        "b.start_scope()    # allows running separate simulations in the same notebook\n",
        "\n",
        "# @title Figure settings\n",
        "graphite = \"#4B4E53\"\n",
        "blue = '#005c94ff'\n",
        "green = '#338000ff'\n",
        "orange = '#ff6600ff'\n",
        "notred = '#aa0044ff'\n",
        "dsblue = '#0BA8E6'\n",
        "light_gray = \"#b5b5b5\"\n",
        "params = {\n",
        "          \"legend.fontsize\": 10,\n",
        "          \"legend.handlelength\": 1.5,\n",
        "          \"legend.edgecolor\": 'inherit',\n",
        "          \"legend.columnspacing\": 0.8,\n",
        "          \"legend.handletextpad\": 0.5,\n",
        "          \"axes.labelsize\": 10,\n",
        "          \"axes.titlesize\": 11, \n",
        "          \"axes.spines.right\": False,\n",
        "          \"axes.spines.top\": False,\n",
        "          \"xtick.labelsize\": 10,\n",
        "          \"ytick.labelsize\": 10,\n",
        "          'mathtext.default': 'regular',\n",
        "          'lines.markersize': 3,\n",
        "          'lines.linewidth': 1.25,\n",
        "          'grid.color': \"#d3d3d3\",\n",
        "          'grid.linestyle': \":\",\n",
        "          'text.antialiased': True,\n",
        "          'lines.antialiased': True,\n",
        "          'figure.dpi': 150,\n",
        "          'axes.prop_cycle': b.cycler(color=[blue, green, orange, notred])\n",
        "          }\n",
        "\n",
        "b.rcParams.update(params)"
      ],
      "metadata": {
        "cellView": "form",
        "id": "F9EDKQlO7MWK"
      },
      "execution_count": 2,
      "outputs": []
    },
    {
      "cell_type": "code",
      "source": [
        "# @title Analyze data from 242 simulations\n",
        "# unzip data\n",
        "with ZipFile(\"other/fig7-data.zip\", mode=\"r\") as archive:\n",
        "    archive.extractall(\"other/pickles\")\n",
        "\n",
        "# load and curate data\n",
        "path = \"other/pickles/fig7-data\"\n",
        "ec_freqs = b.arange(0.5, 1.6, 0.1)*82\n",
        "ca3_freqs = b.arange(0.5, 1.6, 0.1)*120\n",
        "N_pyr = 10000\n",
        "\n",
        "M1 = b.zeros((11, 11))\n",
        "M2 = b.zeros((11, 11))\n",
        "for ix, x in enumerate(ec_freqs):\n",
        "    for iy, y in enumerate(ca3_freqs):\n",
        "        file1 = f\"INPUT_EC=True INPUT_CA3=True DSPIKES=True FREQ_EC={x:.1f}Hz FREQ_CA3={y:.1f}Hz N_PYR=10000 T_SIM=500ms.pkl\"\n",
        "        file2 = f\"INPUT_EC=True INPUT_CA3=True DSPIKES=False FREQ_EC={x:.1f}Hz FREQ_CA3={y:.1f}Hz N_PYR=10000 T_SIM=500ms.pkl\"\n",
        "        with open(f\"{path}/{file1}\", 'rb') as f1, open(f\"{path}/{file2}\", 'rb') as f2:\n",
        "            data1, data2 = p.load(f1), p.load(f2)\n",
        "\n",
        "        spiketimes1 = data1['spiketimes']\n",
        "        len_spikes1 = b.array([len(spiketimes1[neuron]) for neuron in spiketimes1])\n",
        "        freqs1 = len_spikes1/(500*ms)\n",
        "        mean_freq1 = b.mean(freqs1)\n",
        "        M1[ix][iy] = mean_freq1\n",
        "\n",
        "        spiketimes2 = data2['spiketimes']\n",
        "        len_spikes2 = b.array([len(spiketimes2[neuron]) for neuron in spiketimes2])\n",
        "        freqs2 = len_spikes2/(500*ms)\n",
        "        mean_freq2 = b.mean(freqs2)\n",
        "        M2[ix][iy] = mean_freq2"
      ],
      "metadata": {
        "cellView": "form",
        "id": "OKFzOK1uegqi"
      },
      "execution_count": 3,
      "outputs": []
    },
    {
      "cell_type": "code",
      "source": [
        "# @title Plot Mean Network Firing Rates\n",
        "ticks = [0, 5, 10] \n",
        "tick_labels = [\"0.5\", \"1.0\", \"1.5\"]\n",
        "\n",
        "import matplotlib.pyplot as plt\n",
        "fig, axes = plt.subplots(ncols=3,figsize=(7.2,3),\n",
        "                       gridspec_kw={\"width_ratios\":[1,1, 0.05]})\n",
        "ax0, ax1, ax2 = axes\n",
        "h1 = ax0.imshow(b.flipud(M1), vmin=0, vmax=11)\n",
        "h2 = ax1.imshow(b.flipud(M2), vmin=0, vmax=11)\n",
        "cb = fig.colorbar(h1, cax=ax2, ticks=[0,11], label='Mean Firing Rate (Hz)')\n",
        "\n",
        "for ax in ax0, ax1:\n",
        "    ax.set_xticks(ticks)\n",
        "    ax.set_yticks(ticks)\n",
        "    ax.set_xticklabels(tick_labels)\n",
        "    ax.set_yticklabels(tick_labels)\n",
        "    ax.spines['bottom'].set_visible(False)\n",
        "    ax.spines['left'].set_visible(False)\n",
        "\n",
        "\n",
        "ax0.set_title(\"dSpikes ON\")\n",
        "ax0.set_ylabel(\"EC input (a.u.)\")\n",
        "ax0.set_xlabel(\"CA3 input (a.u.)\")\n",
        "ax1.set_title(\"dSpikes OFF\")\n",
        "ax1.set_xlabel(\"CA3 input (a.u.)\")\n",
        "cb.outline.set_visible(False)\n",
        "\n",
        "fig.tight_layout()\n",
        "fig.subplots_adjust()"
      ],
      "metadata": {
        "colab": {
          "base_uri": "https://localhost:8080/",
          "height": 452
        },
        "cellView": "form",
        "id": "U5r-s4RBjSU5",
        "outputId": "04c0f853-d3de-4b7c-906a-76d46079361a"
      },
      "execution_count": 4,
      "outputs": [
        {
          "output_type": "display_data",
          "data": {
            "text/plain": [
              "<Figure size 1080x450 with 3 Axes>"
            ],
            "image/png": "[encoded data removed]"
          },
          "metadata": {
            "needs_background": "light"
          }
        }
      ]
    },
    {
      "cell_type": "code",
      "source": [
        ""
      ],
      "metadata": {
        "id": "Ng9ziXxL4-vR"
      },
      "execution_count": 4,
      "outputs": []
    }
  ]
}