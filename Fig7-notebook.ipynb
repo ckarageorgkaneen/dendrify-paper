{
  "nbformat": 4,
  "nbformat_minor": 0,
  "metadata": {
    "colab": {
      "name": "Fig7-notebook.ipynb",
      "provenance": [],
      "collapsed_sections": [],
      "authorship_tag": "ABX9TyOhTuGHjo6YE7kiY4u/RM5N",
      "include_colab_link": true
    },
    "kernelspec": {
      "name": "python3",
      "display_name": "Python 3"
    },
    "language_info": {
      "name": "python"
    }
  },
  "cells": [
    {
      "cell_type": "markdown",
      "metadata": {
        "id": "view-in-github",
        "colab_type": "text"
      },
      "source": [
        "<a href=\"https://colab.research.google.com/github/mpgl/dendrify-paper/blob/main/Fig7-notebook.ipynb\" target=\"_parent\"><img src=\"https://colab.research.google.com/assets/colab-badge.svg\" alt=\"Open In Colab\"/></a>"
      ]
    },
    {
      "cell_type": "markdown",
      "source": [
        "## Overview\n",
        "> *In this interactive Python notebook, we present and briefly discuss the code needed to replicate the model and the results shown in Figure 7 of the manuscript. In this example our main goal is to illustrate that:*\n",
        ">\n",
        "> - *The simplified CA1 model we presented, can reproduce complex pathway interaction rules that rely on dendritic VGICs, in addition to essential electrophysiological properties of real neurons (Fig. 6).*\n",
        ">\n",
        ">\n",
        "> **Important:** *since Figure 7 requires in total 242 different simulations, it is impractical and time-concuming to perform all of them in the current notebook. Therefore, to recreate panels d-f we will utilise existing data that will be downloaded from an online repository.*\n",
        ">\n",
        "> <hr>\n",
        ">\n",
        "> *__Note__: In case you are unfamiliar with how Python notebooks work and you would like to run or rerun the entire code, simply select one of the options bellow:*\n",
        ">\n",
        "> - **Runtime ➝ Run all**\n",
        "> - **Runtime ➝ Restart and run all**\n",
        ">\n",
        "> *located on the top menu and wait a few seconds until all cells finish running.*\n",
        "> <hr>\n",
        ">\n",
        "> *All source code of the current Dendrify version is available on* [GitHub](https://github.com/mpgl/dendrify-paper)"
      ],
      "metadata": {
        "id": "H0LtGIRA1PDV"
      }
    },
    {
      "cell_type": "code",
      "execution_count": null,
      "metadata": {
        "id": "HlN1GN3h1LS_"
      },
      "outputs": [],
      "source": [
        ""
      ]
    }
  ]
}